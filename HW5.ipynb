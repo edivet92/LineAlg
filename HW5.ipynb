{
 "cells": [
  {
   "cell_type": "markdown",
   "metadata": {},
   "source": [
    "## Дз к уроку 5"
   ]
  },
  {
   "cell_type": "markdown",
   "metadata": {},
   "source": [
    "Найти SVD для матрицы"
   ]
  },
  {
   "cell_type": "code",
   "execution_count": 1,
   "metadata": {},
   "outputs": [],
   "source": [
    "import numpy as np\n",
    "np.set_printoptions(precision=2)"
   ]
  },
  {
   "cell_type": "code",
   "execution_count": 2,
   "metadata": {},
   "outputs": [
    {
     "name": "stdout",
     "output_type": "stream",
     "text": [
      "Матрица А:\n",
      "[[ 1  2  0]\n",
      " [ 0  0  5]\n",
      " [ 3 -4  2]\n",
      " [ 1  6  5]\n",
      " [ 1  0  0]]\n"
     ]
    }
   ],
   "source": [
    "A = np.array([[1, 2, 0],\n",
    "              [0, 0, 5],\n",
    "              [3, -4, 2],\n",
    "              [1, 6, 5],\n",
    "              [1, 0, 0]])\n",
    "print(f'Матрица А:\\n{A}')"
   ]
  },
  {
   "cell_type": "code",
   "execution_count": 3,
   "metadata": {},
   "outputs": [
    {
     "name": "stdout",
     "output_type": "stream",
     "text": [
      "U:\n",
      "[[ 0.17  0.16 -0.51 -0.76 -0.33]\n",
      " [ 0.4  -0.52  0.6  -0.45  0.09]\n",
      " [-0.14 -0.83 -0.46  0.19 -0.19]\n",
      " [ 0.89  0.08 -0.24  0.38 -0.02]\n",
      " [ 0.01 -0.06 -0.34 -0.18  0.92]]\n",
      "s:\n",
      "[8.8  6.12 2.69]\n",
      "W:\n",
      "[[ 0.07  0.71  0.7 ]\n",
      " [-0.38  0.67 -0.64]\n",
      " [-0.92 -0.22  0.32]]\n"
     ]
    }
   ],
   "source": [
    "U, s, W = np.linalg.svd(A)\n",
    "print(f'U:\\n{U}\\ns:\\n{s}\\nW:\\n{W}')"
   ]
  },
  {
   "cell_type": "code",
   "execution_count": 4,
   "metadata": {},
   "outputs": [],
   "source": [
    "V = W.T\n",
    "\n",
    "D = np.zeros_like(V, dtype=float)\n",
    "D[np.diag_indices(min(A.shape))] = s"
   ]
  },
  {
   "cell_type": "code",
   "execution_count": 5,
   "metadata": {},
   "outputs": [
    {
     "name": "stdout",
     "output_type": "stream",
     "text": [
      "Матрица D:\n",
      "[[8.8  0.   0.  ]\n",
      " [0.   6.12 0.  ]\n",
      " [0.   0.   2.69]]\n"
     ]
    }
   ],
   "source": [
    "print(f'Матрица D:\\n{D}')"
   ]
  },
  {
   "cell_type": "code",
   "execution_count": 6,
   "metadata": {},
   "outputs": [
    {
     "name": "stdout",
     "output_type": "stream",
     "text": [
      "Матрица U:\n",
      "[[ 0.17  0.16 -0.51 -0.76 -0.33]\n",
      " [ 0.4  -0.52  0.6  -0.45  0.09]\n",
      " [-0.14 -0.83 -0.46  0.19 -0.19]\n",
      " [ 0.89  0.08 -0.24  0.38 -0.02]\n",
      " [ 0.01 -0.06 -0.34 -0.18  0.92]]\n"
     ]
    }
   ],
   "source": [
    "print(f'Матрица U:\\n{U}')"
   ]
  },
  {
   "cell_type": "code",
   "execution_count": 7,
   "metadata": {},
   "outputs": [
    {
     "name": "stdout",
     "output_type": "stream",
     "text": [
      "Матрица V:\n",
      "[[ 0.07 -0.38 -0.92]\n",
      " [ 0.71  0.67 -0.22]\n",
      " [ 0.7  -0.64  0.32]]\n"
     ]
    }
   ],
   "source": [
    "print(f'Матрица V:\\n{V}')"
   ]
  },
  {
   "cell_type": "markdown",
   "metadata": {},
   "source": [
    "Найти Евклидову и Фрабениуса нормы для матрицы А"
   ]
  },
  {
   "cell_type": "code",
   "execution_count": 34,
   "metadata": {},
   "outputs": [
    {
     "name": "stdout",
     "output_type": "stream",
     "text": [
      "8.80\n"
     ]
    }
   ],
   "source": [
    "euclid_norm = np.linalg.norm(A, ord=2) #Евклидова норма\n",
    "print(f'{euclid_norm:.2f}')"
   ]
  },
  {
   "cell_type": "code",
   "execution_count": 32,
   "metadata": {},
   "outputs": [
    {
     "data": {
      "text/plain": [
       "True"
      ]
     },
     "execution_count": 32,
     "metadata": {},
     "output_type": "execute_result"
    }
   ],
   "source": [
    "euclid_norm == s[0]"
   ]
  },
  {
   "cell_type": "code",
   "execution_count": 44,
   "metadata": {},
   "outputs": [
    {
     "name": "stdout",
     "output_type": "stream",
     "text": [
      "Норма Фробениуса:\n",
      "11.05\n"
     ]
    }
   ],
   "source": [
    "frob_norm_1 = np.linalg.norm(A)\n",
    "print(f'Норма Фробениуса:\\n{frob_norm_1:.2f}')#Это норма Фробениуса"
   ]
  },
  {
   "cell_type": "code",
   "execution_count": 43,
   "metadata": {},
   "outputs": [
    {
     "name": "stdout",
     "output_type": "stream",
     "text": [
      "Норма Фробениуса:\n",
      "11.05\n"
     ]
    }
   ],
   "source": [
    "frob_norm_2 = (sum(i**2 for i in s))**0.5\n",
    "print(f'Норма Фробениуса:\\n{frob_norm_2:.2f}')#то же самое из сингулярности"
   ]
  },
  {
   "cell_type": "code",
   "execution_count": 79,
   "metadata": {},
   "outputs": [
    {
     "name": "stdout",
     "output_type": "stream",
     "text": [
      "Норма Фробениуса:\n",
      "11.05\n"
     ]
    }
   ],
   "source": [
    "frob_norm_3 = (sum(sum(i**2 for i in A.reshape(1, 15))))**0.5\n",
    "print(f'Норма Фробениуса:\\n{frob_norm_3:.2f}')#то же чсамое из исходной матрицы"
   ]
  },
  {
   "cell_type": "code",
   "execution_count": 86,
   "metadata": {},
   "outputs": [
    {
     "name": "stdout",
     "output_type": "stream",
     "text": [
      "норма Фробениуса из питона:\n",
      "\t11.045361017187261\n",
      "из сингулярности:\n",
      "\t11.045361017187263\n",
      "из исходной матрицы:\n",
      "\t11.045361017187261\n"
     ]
    }
   ],
   "source": [
    "print(f'норма Фробениуса из питона:\\n\\t{frob_norm_1}\\nиз сингулярности:\\n\\t{frob_norm_2}\\n'\n",
    "      f'из исходной матрицы:\\n\\t{frob_norm_3}')"
   ]
  },
  {
   "cell_type": "code",
   "execution_count": 88,
   "metadata": {},
   "outputs": [
    {
     "name": "stdout",
     "output_type": "stream",
     "text": [
      "True\n"
     ]
    }
   ],
   "source": [
    "print(f'{frob_norm_3:.2f}' == f'{frob_norm_2:.2f}' == f'{frob_norm_1:.2f}')"
   ]
  },
  {
   "cell_type": "markdown",
   "metadata": {},
   "source": [
    "Спасибо вам большое. Вы всегда интересно, логично и понятно объясняете материал, делать домашку после такой лекции очень приятно. \n",
    "Хочу извиниться за то что редко был на вебинарах - работаю сутками, поэтому почти никогда не совпадаю по расписанию с он-лайн уроками.\n",
    "Надеюсь, еще увидимся. "
   ]
  }
 ],
 "metadata": {
  "kernelspec": {
   "display_name": "Python 3",
   "language": "python",
   "name": "python3"
  },
  "language_info": {
   "codemirror_mode": {
    "name": "ipython",
    "version": 3
   },
   "file_extension": ".py",
   "mimetype": "text/x-python",
   "name": "python",
   "nbconvert_exporter": "python",
   "pygments_lexer": "ipython3",
   "version": "3.7.6"
  }
 },
 "nbformat": 4,
 "nbformat_minor": 4
}
